{
 "cells": [
  {
   "cell_type": "markdown",
   "metadata": {
    "tags": [
     "remove_input"
    ]
   },
   "source": [
    "Cell Initilization:\n",
    "The cell below has an initialization Cell tag which can be seen by ```Menu Bar:View > Cell Toolbar > Initialization Cell``` and it also has a remove_input tag which can be seen by View > ```Cell Toolbar > tags```\n",
    "nb tick Initialization Cells in NBExtensions tab. The intended outcome is that the cell below is run as an initialization cell and the javascript it contains automatically runs all the cells in the entire notebook.\n",
    "\n",
    "NB this actual cell also has a remove_input tag as I don't want it appearing in the jupyter-book..."
   ]
  },
  {
   "cell_type": "code",
   "execution_count": null,
   "metadata": {
    "init_cell": true,
    "tags": [
     "remove_input"
    ]
   },
   "outputs": [],
   "source": [
    "%%html\n",
    "<script>\n",
    "    // AUTORUN ALL CELLS ON NOTEBOOK-LOAD!\n",
    "    require(\n",
    "        ['base/js/namespace', 'jquery'], \n",
    "        function(jupyter, $) {\n",
    "            $(jupyter.events).on(\"kernel_ready.Kernel\", function () {\n",
    "                console.log(\"Auto-running all cells-below...\");\n",
    "                jupyter.actions.call('jupyter-notebook:run-all-cells-below');\n",
    "                jupyter.actions.call('jupyter-notebook:save-notebook');\n",
    "            });\n",
    "        }\n",
    "    );\n",
    "</script>"
   ]
  },
  {
   "cell_type": "markdown",
   "metadata": {
    "hideCode": false,
    "hidePrompt": false,
    "toc": true
   },
   "source": [
    "<h1>Table of Contents<span class=\"tocSkip\"></span></h1>\n",
    "<div class=\"toc\"><ul class=\"toc-item\"><li><span><a href=\"#CD-1.1-Adults-with-respiritory-problems---level-2\" data-toc-modified-id=\"CD-1.1-Adults-with-respiritory-problems---level-2-1\"><span class=\"toc-item-num\">1&nbsp;&nbsp;</span>CD 1.1 Adults with respiritory problems - level 2</a></span></li><li><span><a href=\"#CD1-1.1.1-(L2)-Anatomy-&amp;-Physiology\" data-toc-modified-id=\"CD1-1.1.1-(L2)-Anatomy-&amp;-Physiology-2\"><span class=\"toc-item-num\">2&nbsp;&nbsp;</span>CD1 1.1.1 (L2) Anatomy &amp; Physiology</a></span></li><li><span><a href=\"#CD!-1.1.2-(L)-Assessment\" data-toc-modified-id=\"CD!-1.1.2-(L)-Assessment-3\"><span class=\"toc-item-num\">3&nbsp;&nbsp;</span>CD! 1.1.2 (L) Assessment</a></span></li><li><span><a href=\"#Respiritory-system-noises\" data-toc-modified-id=\"Respiritory-system-noises-4\"><span class=\"toc-item-num\">4&nbsp;&nbsp;</span>Respiritory system noises</a></span><ul class=\"toc-item\"><li><span><a href=\"#Wheeze-(high-pitch)\" data-toc-modified-id=\"Wheeze-(high-pitch)-4.1\"><span class=\"toc-item-num\">4.1&nbsp;&nbsp;</span>Wheeze (high pitch)</a></span></li><li><span><a href=\"#Wheeze-(low-pitch)-aka-Rhonchi\" data-toc-modified-id=\"Wheeze-(low-pitch)-aka-Rhonchi-4.2\"><span class=\"toc-item-num\">4.2&nbsp;&nbsp;</span>Wheeze (low pitch) aka Rhonchi</a></span></li><li><span><a href=\"#Coarse-Crackles-aka-Rales-(low-pitch-rales)\" data-toc-modified-id=\"Coarse-Crackles-aka-Rales-(low-pitch-rales)-4.3\"><span class=\"toc-item-num\">4.3&nbsp;&nbsp;</span>Coarse Crackles aka Rales (low pitch rales)</a></span></li><li><span><a href=\"#Stridor\" data-toc-modified-id=\"Stridor-4.4\"><span class=\"toc-item-num\">4.4&nbsp;&nbsp;</span>Stridor</a></span></li><li><span><a href=\"#Pleural-rub\" data-toc-modified-id=\"Pleural-rub-4.5\"><span class=\"toc-item-num\">4.5&nbsp;&nbsp;</span>Pleural rub</a></span></li><li><span><a href=\"#Fine-Crackles-aka-Rales-(high-pitch-rales)\" data-toc-modified-id=\"Fine-Crackles-aka-Rales-(high-pitch-rales)-4.6\"><span class=\"toc-item-num\">4.6&nbsp;&nbsp;</span>Fine Crackles aka Rales (high pitch rales)</a></span></li></ul></li><li><span><a href=\"#Physiological-concepts-to-understand...\" data-toc-modified-id=\"Physiological-concepts-to-understand...-5\"><span class=\"toc-item-num\">5&nbsp;&nbsp;</span>Physiological concepts to understand...</a></span></li></ul></div>"
   ]
  },
  {
   "cell_type": "markdown",
   "metadata": {
    "hideCode": false,
    "hidePrompt": false
   },
   "source": [
    "## CD 1.1 Adults with respiritory problems - level 2\n",
    "\n",
    "Care for patients with airway & respiritory system problems"
   ]
  },
  {
   "cell_type": "markdown",
   "metadata": {
    "hideCode": false,
    "hidePrompt": false
   },
   "source": [
    "## CD1 1.1.1 (L2) Anatomy & Physiology\n",
    "\n",
    "Read [sections 22.1 to 22.3](https://openstax.org/books/anatomy-and-physiology/pages/22-1-organs-and-structures-of-the-respiratory-system) of this online textbook for a brief review of the respiritory system (approx 40 minutes). {% cite openstaxcollege2013 %} \n",
    "\n",
    "Make a few notes as you watch this eight minute video by {% cite armandoh_lung_volumes_2020 %}. You must familiarise yourself with the important lung volumes and capacities (approx 8 minutes). A brief mcq follows shortly...\n",
    "\n",
    "Please consider liking the video and subscribing to the authors channel if you find this resource useful.\n"
   ]
  },
  {
   "cell_type": "code",
   "execution_count": null,
   "metadata": {
    "hideCode": true,
    "hidePrompt": true,
    "tags": [
     "interactive",
     "hide_input"
    ]
   },
   "outputs": [],
   "source": [
    "from IPython.display import YouTubeVideo\n",
    "YouTubeVideo('9VdHhD1vcDU', width=1000, height=400)"
   ]
  },
  {
   "cell_type": "markdown",
   "metadata": {
    "hideCode": false,
    "hidePrompt": false
   },
   "source": [
    "## CD! 1.1.2 (L) Assessment\n",
    "\n",
    "Watch this nine minute video by {% cite potter_respiritory_2019 %} (approx 9 minutes). \n",
    "\n",
    "Please consider liking the video and sunscribing to the authors channel if you find this resource useful."
   ]
  },
  {
   "cell_type": "code",
   "execution_count": null,
   "metadata": {
    "hideCode": true,
    "hidePrompt": true,
    "tags": [
     "interactive",
     "hide_input"
    ]
   },
   "outputs": [],
   "source": [
    "# HIDDEN\n",
    "from IPython.display import YouTubeVideo\n",
    "YouTubeVideo('gRWSyqatWQQ', width=1000, height=400)\n"
   ]
  },
  {
   "cell_type": "markdown",
   "metadata": {
    "hideCode": false,
    "hidePrompt": false
   },
   "source": [
    "If you wish to explore this in more depth then feel free to check out the [companion site](https://geekymedics.com/respiratory-examination-2/) which provides more detail."
   ]
  },
  {
   "cell_type": "markdown",
   "metadata": {},
   "source": [
    "## Respiritory system noises\n",
    "\n",
    "Factors that are used to assess noises generated in the respiratory system are:\n",
    "\n",
    "- continuous/discontinuous\n",
    "- frequency/pitch\n",
    "- inspiratory/expiratory\n",
    "- quality (musical/crackling/whistling, etc)\n",
    "- associated conditions (asthma/copd/fibrosis, etc)\n",
    "\n",
    "Wheezes are caused by partial obstruction of the airways by secretions or bronchoconstriction.\n",
    "\n",
    "Crackles are caused by interstitial fluid or plasma that has leaked into the airways. \n"
   ]
  },
  {
   "cell_type": "markdown",
   "metadata": {},
   "source": [
    "### Wheeze (high pitch)\n",
    "High Pitched, Polyphonic (Sibilant) Wheeze.\n",
    "\n",
    "\n",
    "Heard mainly in expiration but may be present during inspiration. Sounds like a high-pitched musical instrument with *more* than one type of sound quality, e.g., asthma.\n"
   ]
  },
  {
   "cell_type": "code",
   "execution_count": null,
   "metadata": {
    "hideCode": true,
    "hidePrompt": true,
    "tags": [
     "hide_input",
     "interactive"
    ]
   },
   "outputs": [],
   "source": [
    "#https://www.nursingcenter.com/ncblog/october-2016/breath-sounds-test-your-knowledge\n",
    "from IPython.display import Audio\n",
    "sound_file = 'Wheeze .wav'\n",
    "Audio(sound_file, autoplay=False)"
   ]
  },
  {
   "cell_type": "markdown",
   "metadata": {},
   "source": [
    "### Wheeze (low pitch) aka Rhonchi  \n",
    "Low-pitched, Monophonic Wheeze (Sonorous) Wheeze. \n",
    "Caused by air moving through secretions.\n",
    "\n",
    "Auscultated mainly in expiration but may be present at anytime.\n",
    "Sounds like a low-pitched whistling tune or whine with *one* type of sound quality.\n",
    "Low-pitched because it occurs in the upper airways.\n",
    "May be heard in patients with COPD or pneumonia etc.\n",
    "Rhonchi is a deprecated clinical term."
   ]
  },
  {
   "cell_type": "code",
   "execution_count": null,
   "metadata": {
    "hideCode": true,
    "hidePrompt": true,
    "tags": [
     "hide_input",
     "interactive"
    ]
   },
   "outputs": [],
   "source": [
    "#https://www.nursingcenter.com/ncblog/october-2016/breath-sounds-test-your-knowledge\n",
    "from IPython.display import Audio\n",
    "sound_file = 'Rhonchi.wav'\n",
    "Audio(sound_file, autoplay=False)"
   ]
  },
  {
   "cell_type": "markdown",
   "metadata": {
    "hidePrompt": false
   },
   "source": [
    "### Coarse Crackles aka Rales (low pitch rales)\n",
    "\n",
    "Heard mainly during inspiration but can extend into expiration as well.\n",
    "Low-pitched, wet bubbling sound.\n",
    "May be heard in patient with fluid overload, pneumonia etc.\n",
    "Rales is a deprecated clinical term."
   ]
  },
  {
   "cell_type": "code",
   "execution_count": null,
   "metadata": {
    "hideCode": true,
    "hidePrompt": true,
    "tags": [
     "hide_input",
     "interactive"
    ]
   },
   "outputs": [],
   "source": [
    "#https://www.nursingcenter.com/ncblog/october-2016/breath-sounds-test-your-knowledge\n",
    "from IPython.display import Audio\n",
    "sound_file = 'Coarse-Crackles.wav'\n",
    "Audio(sound_file, autoplay=False)"
   ]
  },
  {
   "cell_type": "markdown",
   "metadata": {},
   "source": [
    "### Stridor\n",
    "Heard during inspiration.\n",
    "Harsh, high-pitched whistling or gasping sound.\n",
    "Epiglottitis, or severe croup, but possibly anyone with upper airway obstruction."
   ]
  },
  {
   "cell_type": "code",
   "execution_count": null,
   "metadata": {
    "hideCode": true,
    "hidePrompt": true,
    "tags": [
     "hide_input",
     "interactive"
    ]
   },
   "outputs": [],
   "source": [
    "#https://www.nursingcenter.com/ncblog/october-2016/breath-sounds-test-your-knowledge\n",
    "from IPython.display import Audio\n",
    "sound_file = 'Stridor.wav'\n",
    "Audio(sound_file, autoplay=False)"
   ]
  },
  {
   "cell_type": "markdown",
   "metadata": {},
   "source": [
    "### Pleural rub\n",
    "Sounds like walking on fresh snow, or a loud grating sound, generally throughout both phases of respiration. Caused by inflamed pleurae rubbing on one another. NB chest drains (drain pleural space) cause similar sounds."
   ]
  },
  {
   "cell_type": "code",
   "execution_count": null,
   "metadata": {
    "hideCode": true,
    "hidePrompt": true,
    "tags": [
     "hide_input",
     "interactive"
    ]
   },
   "outputs": [],
   "source": [
    "# http://faculty.etsu.edu/arnall/www/public_html/heartlung/breathsounds/contents.html\n",
    "from IPython.display import Audio\n",
    "sound_file = 'fric_rub.wav'\n",
    "Audio(sound_file, autoplay=False)"
   ]
  },
  {
   "cell_type": "markdown",
   "metadata": {},
   "source": [
    "### Fine Crackles aka Rales (high pitch rales)\n",
    "\n",
    "High-pitched, interrupted, non-musical, crackling sound similar to crackling fireworks, or velcro heard during inspiration.\n",
    "\n",
    "Often occurring due to opening of small airway that have not been cleared by coughing. \n",
    "\n",
    "Fine crackles heard throughout inspiration suggest pathology in the alveoli. However crackles heard just at the very beginning of breathing-in can sometimes be heard in copd.\n",
    "\n",
    "- Fine crackles - pulmonary fibrosis, interstitial pneumonia.\n",
    "\n",
    "- Medium crackles - pulmonary oedema, adult respiritory distress syndrom (ARDS).\n",
    "\n",
    "- Coarse crackles - indicate pools of retained secretions in conditions such as bronchiectasis.\n",
    "\n",
    "\n",
    "\n",
    "May be heard in patients with edema in the lungs or ARDS (acute respiratory distress syndrome)."
   ]
  },
  {
   "cell_type": "code",
   "execution_count": null,
   "metadata": {
    "hideCode": true,
    "hidePrompt": true,
    "tags": [
     "hide_input",
     "interactive"
    ]
   },
   "outputs": [],
   "source": [
    "# http://faculty.etsu.edu/arnall/www/public_html/heartlung/breathsounds/contents.html\n",
    "from IPython.display import Audio\n",
    "sound_file = 'Fine-Crackles.wav'\n",
    "Audio(sound_file, autoplay=False)"
   ]
  },
  {
   "cell_type": "markdown",
   "metadata": {
    "hideCode": false,
    "hidePrompt": false
   },
   "source": [
    "## Physiological concepts to understand...\n",
    "\n",
    "It will help you to internalise these volumes and capacities if you actually adjust your breathing to match what you are reading about in this section. For instance, when you read the line about total Lung Capacity then breathe in as much as you can. Then breathe it all out when you read the next line about Vital capacity...\n",
    "\n",
    "**Total Lung capacity (TLC)** is the amount of gas in the lungs after a maximal inspiration.\n",
    "\n",
    "**Vital capacity (VC)** is the amount of gas exhaled after a maximal inpiration followed by a maximal expiration.\n",
    "\n",
    "**The Residual Volume (RV)** is the amount of gas remaining in the lungs after a maximal expiration *(20% of TLC).*\n",
    "\n",
    "- VC + RV = TLC \n",
    "\n",
    "&nbsp;\n",
    "\n",
    "**Tidal Volume (TV)** is the amount of gas moved during normal breathing *(7-8% of TLC).*\n",
    "\n",
    "**The Inspiratory Reserve Volume (IRV)** is the amount of gas an individual can inhale above a tidal inspiration *(60% of TLC).*\n",
    "\n",
    "**The Expiratory Reserve Volume** is the amount of gas that can be exhaled beyond a tidal expiration *(20% of TLC).*\n",
    "\n",
    "- TV + IRV + ERV = TLC\n",
    "\n",
    "&nbsp;\n",
    "\n",
    "**Functional Residual Capacity (FRC)** is the amount of gas remaining in the lungs after a tidal expiration *(40% of TLC).*\n",
    "\n",
    "**The Inspiratory Capacity (IC)** is the total amount of gas that can be inhaled starting at a tidal expiration *(60% TLC).*\n",
    "\n",
    "- IC = TV + IRV\n",
    "\n",
    "&nbsp;\n",
    "\n",
    "**The Functional Residual Capacity (FRC)** is the volume of air present in the lungs at the end of passive expiration.\n",
    "\n",
    "- FRC = ERV + RV\n",
    "\n",
    "&nbsp;\n",
    "\n",
    "**Forced expiratory volume (FEV)** measures the volume of air exhaled with maximal forced effort from a maximal inspiration. The amount of air exhaled may be measured during the first (FEV1), second (FEV2), and/or third seconds (FEV3) of the forced breath. \n",
    "\n",
    "**Forced vital capacity (FVC)** is the total amount of air exhaled during the FEV test.\n",
    "\n",
    "**Relationship between VC & FVC:**\n",
    "VC is similar to the FVC, but the manoeuvre is not forced and it is performed in a relaxed manner, except near the end-inspiration and end-expiration.\n",
    "\n",
    "[spirometry](https://www.blf.org.uk/support-for-you/breathing-tests/spirometry-and-reversibility) is a ventilatory pulmonary function test that measures FEV1 in litres, FVC in litres, VC in litres and calculates FEV1/VCas a perrcentage."
   ]
  },
  {
   "attachments": {
    "image.png": {
     "image/png": "[encoded data removed]"
    }
   },
   "cell_type": "markdown",
   "metadata": {},
   "source": [
    "Care to check your understanding using this interactive  **[<font size=\"5\">QUIZ?</font>](http://paddy10tellys.github.io/nbinteract-tutorial/quiz1.html)** ![image.png](attachment:image.png) Your score will not be recorded, or viewed by anyone else. This quiz widget may load slowly sometimes, especially the first time. \n",
    "\n",
    "<sup>All emojis designed by [OpenMoji](https://openmoji.org/) – the open-source emoji and icon project. License: CC BY-SA 4.0<sup>\n"
   ]
  },
  {
   "cell_type": "markdown",
   "metadata": {
    "tags": [
     "interactive"
    ]
   },
   "source": [
    "You can rate these pages by going to the [the rating page.](http://paddy10tellys.github.io/nbinteract-tutorial/rating.html) This uses an interactive widget. Don't forget that widgets load slowly sometimes. However, in the department this is unlikely to take too long. It might take a while if you access these pages from home, or elsewhere where it has never been run previously. In that case, you can wait, or go back, if the delay is unnacceptable.\n",
    "\n",
    "<sup><sup>[the openStax text book - access for free](https://openstax.org/books/anatomy-and-physiology/pages/1-introduction) OpenStax, a nonprofit educational initiative based at Rice University <sup><sup>"
   ]
  }
 ],
 "metadata": {
  "celltoolbar": "Initialization Cell",
  "hide_code_all_hidden": false,
  "kernelspec": {
   "display_name": "Python 3",
   "language": "python",
   "name": "python3"
  },
  "language_info": {
   "codemirror_mode": {
    "name": "ipython",
    "version": 3
   },
   "file_extension": ".py",
   "mimetype": "text/x-python",
   "name": "python",
   "nbconvert_exporter": "python",
   "pygments_lexer": "ipython3",
   "version": "3.7.6"
  },
  "toc": {
   "base_numbering": 1,
   "nav_menu": {},
   "number_sections": true,
   "sideBar": true,
   "skip_h1_title": false,
   "title_cell": "Table of Contents",
   "title_sidebar": "Contents",
   "toc_cell": true,
   "toc_position": {},
   "toc_section_display": true,
   "toc_window_display": false
  }
 },
 "nbformat": 4,
 "nbformat_minor": 4
}
