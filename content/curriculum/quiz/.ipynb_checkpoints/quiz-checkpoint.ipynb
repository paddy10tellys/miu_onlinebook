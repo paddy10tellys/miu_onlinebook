{
 "cells": [
  {
   "cell_type": "code",
   "execution_count": 5,
   "metadata": {
    "tags": [
     "interactive",
     "use_show_widgets_button"
    ]
   },
   "outputs": [
    {
     "data": {
      "application/vnd.jupyter.widget-view+json": {
       "model_id": "8b80902f19f243f0a0de73c51469014b",
       "version_major": 2,
       "version_minor": 0
      },
      "text/plain": [
       "VBox(children=(Label(value='The amount of gas exhaled after a maximal inpiration followed by a maximal expirat…"
      ]
     },
     "metadata": {},
     "output_type": "display_data"
    },
    {
     "data": {
      "application/vnd.jupyter.widget-view+json": {
       "model_id": "31edfea212a44717b3f33937f89e4760",
       "version_major": 2,
       "version_minor": 0
      },
      "text/plain": [
       "VBox(children=(Label(value='The amount of gas in the lungs after a maximal inspiration is the:'), RadioButtons…"
      ]
     },
     "metadata": {},
     "output_type": "display_data"
    },
    {
     "data": {
      "application/vnd.jupyter.widget-view+json": {
       "model_id": "3c83c16fa9664ef19d0ff240b9655405",
       "version_major": 2,
       "version_minor": 0
      },
      "text/plain": [
       "VBox(children=(Label(value='Where does gas exchange occur?'), RadioButtons(options=(('pulmonary artery', 0), (…"
      ]
     },
     "metadata": {},
     "output_type": "display_data"
    },
    {
     "data": {
      "application/vnd.jupyter.widget-view+json": {
       "model_id": "08128adee1d9467099fee7b32776aabe",
       "version_major": 2,
       "version_minor": 0
      },
      "text/plain": [
       "VBox(children=(Label(value='The pleura that surrounds the lungs consists of two layers, the ________.'), Radio…"
      ]
     },
     "metadata": {},
     "output_type": "display_data"
    }
   ],
   "source": [
    "# THIS WORKS FINE BUT YOU HAVE TO CREATE A WIDGET PER QUESTION\n",
    "# https://github.com/jupyter-widgets/ipywidgets/issues/2487\n",
    "\n",
    "import ipywidgets as widgets\n",
    "from IPython.display import display\n",
    "\n",
    "# mcq is a nested list of mcq items \n",
    "# mcq items are themselves lists consisting of a stem, descriptors and an answer key\n",
    "mcq=[\n",
    "['The amount of gas exhaled after a maximal inpiration followed by a maximal expiration is the:',['IC','RV','VC','TV'],'VC', ''],\n",
    "['The amount of gas in the lungs after a maximal inspiration is the:',['IC','IRV','TLC'],'TLC', ''],\n",
    "['Where does gas exchange occur?',['pulmonary artery','bronchioles','alveoli', 'pleura'],'alveoli', ''],\n",
    "['The pleura that surrounds the lungs consists of two layers, the ________.', ['visceral and parietal pleurae', 'mediastinal and parietal pleurae', 'visceral and mediastinal pleurae', 'none of the above'], 'visceral and parietal pleurae', '']\n",
    "]\n",
    "\n",
    "\n",
    "def create_multipleChoice_widget(n):\n",
    "    i=0    # i controls the while loop that iterates the mcq items\n",
    "    ro_array=[]  # the options that each RadioButtons widget displays\n",
    "    stem_array=[] # questions asked in each stem_out label\n",
    "    key_index_array=[] # answer key for each mcq item\n",
    "    \n",
    "    stem_out = widgets.Label(value='')  # label that asks a question\n",
    "    feedback_out = widgets.Label(value='')  # label that gives feedback\n",
    "\n",
    "    # handler called when RadioButtons option changes. The change is a dictionary holding the information\n",
    "    # about the change\n",
    "    def RB_thingy_eventhandler(change):  # the dictionary argument comes from the observe function, see below\n",
    "        if change.new==key_index_array[n]:  # the new key specifies the new value of RadioButtons widget     \n",
    "            s = r'\\(\\color{green} {Correct!}\\)'    \n",
    "        else:\n",
    "            s = r'\\(\\color{red} {Try \\ again...}\\)'\n",
    "        \n",
    "        feedback_out.value=s\n",
    "            \n",
    "        return\n",
    "           \n",
    "    # we need each question, possible answers and the right answer \n",
    "    while i < len(mcq[0]):  # from the nested list of mcq items\n",
    "        stem=mcq[i][0]\n",
    "        stem_array.append(stem)\n",
    "        distractors=mcq[i][1]\n",
    "        key=mcq[i][2]\n",
    "        i += 1       # controls the while loop\n",
    "        \n",
    "        # add the right answer on end of possible answers if not already there\n",
    "        if key not in distractors:\n",
    "            distractors.append(key)\n",
    "        # this is where the right answer is located\n",
    "        key_index = distractors.index(key)\n",
    "        # list of all the right answers\n",
    "        key_index_array.append(key_index)\n",
    "        # what the buttons show\n",
    "        radio_options = [(words, i) for i, words in enumerate(distractors)] \n",
    "        # list of what buttons should show for each mcq question\n",
    "        ro_array.append(radio_options)\n",
    "\n",
    "    stem_out.value=stem_array[n]  # label to show the question gets the right question sequentially\n",
    "    options=ro_array[n] # requisite options loaded sequentially\n",
    "    \n",
    "    # the RadioButtons widget\n",
    "    RB_thingy = widgets.RadioButtons(\n",
    "            options = options,\n",
    "            discription='',\n",
    "            value=None, # starts with nothing selected\n",
    "            disabled = False\n",
    "            )\n",
    "    \n",
    "    # observe the RadioButtons widget for any changes...    \n",
    "    # call observe with the name of the function that you want to bind to as well as which traits you want\n",
    "    # to \"observe\" i.e., value changes from None to an int when an option is chosen\n",
    "    \n",
    "    # The observe function returns a dictionary of any number of traits that have changed.\n",
    "    # This dictionary is returned as an argument to RB_thingy_eventhandler(change), our change event handler which\n",
    "    # has a change parameter\n",
    "    RB_thingy.observe(RB_thingy_eventhandler, names='value')  # names is just one trait in this case i.e., value\n",
    "    #  create_multipleChoice_widget returns a layout of widgets for display\n",
    "    return widgets.VBox([stem_out, RB_thingy, feedback_out])\n",
    "\n",
    "for q in range(len(mcq[0])):  # iterate through all mcq question items\n",
    "    quiz = create_multipleChoice_widget(q)  # create widget\n",
    "    display(quiz)  # show it all\n",
    "\n",
    "\n",
    "\n",
    "    \n",
    "\n",
    "\n",
    "\n",
    "\n",
    "# # https://github.com/jupyter-widgets/ipywidgets/issues/2382 see jetheurer's comment/solution\n",
    "# # WORKING ON THIS ONE...\n",
    "# # https://jupyterbook.org/features/interactive_cells.html\n",
    "\n",
    "# from ipywidgets import RadioButtons, Text, Select, Dropdown, Label, jslink, Combobox, Output, HTML, VBox\n",
    "# from ipywidgets.widgets.widget import Widget, register, widget_serialization\n",
    "# from ipywidgets.widgets.widget_core import CoreWidget\n",
    "# from IPython.display import  display, clear_output\n",
    "\n",
    "# from traitlets import Unicode, Tuple, Instance, TraitError\n",
    "\n",
    "# # mcg is a list of lists \n",
    "# # each list consists of a string (the stem) & a list of distractor tuples (distractor string and response string)\n",
    "# mcq=[\n",
    "# ['The amount of gas exhaled after a maximal inpiration followed by a maximal expiration is the:', [('choose',''),('IC', 'Try again...'),('RV','Try again...'),('VC','Correct!'), ('TV', 'Try again...')]],\n",
    "# ['The amount of gas in the lungs after a maximal inspiration is the:',[('choose',''),('IC','Try again...'),('IRV','Try again...'),('TLC','Correct!')]],\n",
    "# ['Where does gas exchange occur?',[('choose',''),('pulmonary artery','Try again...'),('bronchioles','Try again...'),('alveoli','Correct!'), ('pleura', 'Try again...')]],\n",
    "# ['The pleura that surrounds the lungs consists of two layers, the ________.',[('choose',''),('visceral & parietal pleurae','Correct!'),('mediastinal & parietal pleurae','Try again'),('visceral & mediastinal pleurae','Try again'),('none of the above','Try again')]],    \n",
    "# ['finished',[('no option','')]]    \n",
    "# ]\n",
    "\n",
    "# def text_eventhandler(change):  # argument comes from the observe function, see below\n",
    "#         if change['new']=='Correct!':\n",
    "#         #if change.new=='Correct!': \n",
    "#             global i, stem_out, selection, text\n",
    "#             i += 1\n",
    "#             stem_out.value=mcq[i][0]\n",
    "#             selection.options=mcq[i][1]\n",
    "# #         with output:\n",
    "# #             clear_output()\n",
    "# #             print(i, len(mcq))\n",
    "#             if len(mcq)-1==i:\n",
    "#                 stem_out.value=\"Finished\" \n",
    "#                 text.placeholder=\"All questions have been answered...\"\n",
    "#         return \n",
    "\n",
    "# i=0\n",
    "# output=Output()\n",
    "# Dropdown.value.tag(sync=True)  # whatever value is selected in the Dropdown becomes the value in the Text\n",
    "# stem_out = Label(value=mcq[i][0])  # the stem string from mcq\n",
    "# selection = Dropdown(options=mcq[i][1]) # response string from the distractor tuple is the new text value\n",
    "# text = Text(placeholder='choice evaluation...')\n",
    "# jslink((selection, 'value'), (text, 'value'))\n",
    "# display(stem_out, selection, text, output)\n",
    "# text.observe(text_eventhandler, names='value')  # names is just one trait in this case i.e., value\n",
    "\n",
    "\n",
    "\n",
    "\n",
    " "
   ]
  },
  {
   "cell_type": "code",
   "execution_count": null,
   "metadata": {},
   "outputs": [],
   "source": []
  }
 ],
 "metadata": {
  "celltoolbar": "Tags",
  "kernelspec": {
   "display_name": "Python 3",
   "language": "python",
   "name": "python3"
  },
  "language_info": {
   "codemirror_mode": {
    "name": "ipython",
    "version": 3
   },
   "file_extension": ".py",
   "mimetype": "text/x-python",
   "name": "python",
   "nbconvert_exporter": "python",
   "pygments_lexer": "ipython3",
   "version": "3.7.6"
  }
 },
 "nbformat": 4,
 "nbformat_minor": 2
}
