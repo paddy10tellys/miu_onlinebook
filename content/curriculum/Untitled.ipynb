{
 "cells": [
  {
   "cell_type": "code",
   "execution_count": null,
   "metadata": {},
   "outputs": [],
   "source": [
    "from __future__ import print_function\n",
    "from ipywidgets import interact, interactive, fixed, interact_manual\n",
    "import ipywidgets as widgets\n",
    "from IPython.display import display\n",
    "\n",
    "def f(x):\n",
    "    return x\n",
    "\n",
    "interact(f, x=(0,10,1));"
   ]
  },
  {
   "cell_type": "code",
   "execution_count": null,
   "metadata": {},
   "outputs": [],
   "source": [
    "# SHOWS A COLOURED TEXT BOX\n",
    "# https://codingrelic.geekhold.com/2019/06/ipywidgets-text-background-color.html\n",
    "\n",
    "from ipywidgets import Text, HTML, VBox\n",
    "from IPython.display import display\n",
    "\n",
    "# define a css style for a Text widget that has a green background called \"gbg_style\"\n",
    "gbg_style = \"<style>.green_text_input_class    input { background-color:#D0F0D0 !important; }</style>\"\n",
    "# nb a CSS class selector is a name preceded by a full stop (“.”)\n",
    "# select and style all elements with class=\"green_text_input_class\":\n",
    "\n",
    "# define a css style for a Text widget that has a red background called \"rbg_style\"\n",
    "rbg_style = \"<style>.red_text_input_class    input { background-color:coral !important; }</style>\"\n",
    "\n",
    "\n",
    "# instantiate Text widget\n",
    "text  = Text()\n",
    "\n",
    "# add CSS class to the Text widget\n",
    "text.add_class('green_text_input_class') \n",
    "text.add_class('red_text_input_class') \n",
    "\n",
    "# widgets.HTML() feature allows use of css and HTML\n",
    "# hued_text is a child descendent of text\n",
    "# descendants are rendered in HTML <style> block \n",
    "\n",
    "background='r'\n",
    "\n",
    "if background == 'r':\n",
    "   hued_text = [HTML(rbg_style),text]\n",
    "    \n",
    "        \n",
    "if background == 'g':\n",
    "    hued_text = [HTML(gbg_style),text]\n",
    "    \n",
    "VBox(hued_text)"
   ]
  },
  {
   "cell_type": "code",
   "execution_count": null,
   "metadata": {},
   "outputs": [],
   "source": [
    "%matplotlib inline\n",
    "import numpy as np\n",
    "import matplotlib.pyplot as plt\n",
    "plt.ion()\n",
    "\n",
    "x = np.arange(500)\n",
    "y = np.random.randn(500)\n",
    "\n",
    "fig, ax = plt.subplots()\n",
    "ax.scatter(x, y, c=y, s=x)"
   ]
  },
  {
   "cell_type": "code",
   "execution_count": 1,
   "metadata": {},
   "outputs": [
    {
     "data": {
      "application/vnd.jupyter.widget-view+json": {
       "model_id": "f2cafd180b824878b75fa3c2566b0fd9",
       "version_major": 2,
       "version_minor": 0
      },
      "text/plain": [
       "VBox(children=(Label(value='The amount of gas exhaled after a maximal inpiration followed by a maximal expirat…"
      ]
     },
     "metadata": {},
     "output_type": "display_data"
    },
    {
     "data": {
      "application/vnd.jupyter.widget-view+json": {
       "model_id": "9c3e5931c9ee4d3d8a93b19248c40314",
       "version_major": 2,
       "version_minor": 0
      },
      "text/plain": [
       "VBox(children=(Label(value='The amount of gas in the lungs after a maximal inspiration is the:'), RadioButtons…"
      ]
     },
     "metadata": {},
     "output_type": "display_data"
    },
    {
     "data": {
      "application/vnd.jupyter.widget-view+json": {
       "model_id": "ca8260b281f8465aa88fd6f4b06b29fc",
       "version_major": 2,
       "version_minor": 0
      },
      "text/plain": [
       "VBox(children=(Label(value='Where does gas exchange occur?'), RadioButtons(options=(('pulmonary artery', 0), (…"
      ]
     },
     "metadata": {},
     "output_type": "display_data"
    },
    {
     "data": {
      "application/vnd.jupyter.widget-view+json": {
       "model_id": "d5517b11d17a4407bcb3143f30996bf6",
       "version_major": 2,
       "version_minor": 0
      },
      "text/plain": [
       "VBox(children=(Label(value='The pleura that surrounds the lungs consists of two layers, the ________.'), Radio…"
      ]
     },
     "metadata": {},
     "output_type": "display_data"
    }
   ],
   "source": [
    "# THIS WORKS FINE BUT YOU HAVE TO CREATE A WIDGET PER QUESTION\n",
    "\n",
    "import ipywidgets as widgets\n",
    "from IPython.display import display\n",
    "\n",
    "# mcq is a nested list of mcq items \n",
    "# mcq items are themselves lists consisting of a stem, descriptors and an answer key\n",
    "mcq=[\n",
    "['The amount of gas exhaled after a maximal inpiration followed by a maximal expiration is the:',['IC','RV','VC','TV'],'VC', ''],\n",
    "['The amount of gas in the lungs after a maximal inspiration is the:',['IC','IRV','TLC'],'TLC', ''],\n",
    "['Where does gas exchange occur?',['pulmonary artery','bronchioles','alveoli', 'pleura'],'alveoli', ''],\n",
    "['The pleura that surrounds the lungs consists of two layers, the ________.', ['visceral and parietal pleurae', 'mediastinal and parietal pleurae', 'visceral and mediastinal pleurae', 'none of the above'], 'visceral and parietal pleurae', '']\n",
    "]\n",
    "\n",
    "\n",
    "def create_multipleChoice_widget(n):\n",
    "    i=0    # i controls the while loop that iterates the mcq items\n",
    "    ro_array=[]  # the options that each RadioButtons widget displays\n",
    "    stem_array=[] # questions asked in each stem_out label\n",
    "    key_index_array=[] # answer key for each mcq item\n",
    "    \n",
    "    stem_out = widgets.Label(value='')  # label that asks a question\n",
    "    feedback_out = widgets.Label(value='')  # label that gives feedback\n",
    "\n",
    "    # handler called when RadioButtons option changes. The change is a dictionary holding the information\n",
    "    # about the change\n",
    "    def RB_thingy_eventhandler(change):  # the dictionary argument comes from the observe function, see below\n",
    "        if change.new==key_index_array[n]:  # the new key specifies the new value of RadioButtons widget     \n",
    "            s = r'\\(\\color{green} {Correct!}\\)'    \n",
    "        else:\n",
    "            s = r'\\(\\color{red} {Try \\ again...}\\)'\n",
    "        \n",
    "        feedback_out.value=s\n",
    "            \n",
    "        return\n",
    "           \n",
    "    # we need each question, possible answers and the right answer \n",
    "    while i < len(mcq[0]):  # from the nested list of mcq items\n",
    "        stem=mcq[i][0]\n",
    "        stem_array.append(stem)\n",
    "        distractors=mcq[i][1]\n",
    "        key=mcq[i][2]\n",
    "        i += 1       # controls the while loop\n",
    "        \n",
    "        # add the right answer on end of possible answers if not already there\n",
    "        if key not in distractors:\n",
    "            distractors.append(key)\n",
    "        # this is where the right answer is located\n",
    "        key_index = distractors.index(key)\n",
    "        # list of all the right answers\n",
    "        key_index_array.append(key_index)\n",
    "        # what the buttons show\n",
    "        radio_options = [(words, i) for i, words in enumerate(distractors)] \n",
    "        # list of what buttons should show for each mcq question\n",
    "        ro_array.append(radio_options)\n",
    "\n",
    "    stem_out.value=stem_array[n]  # label to show the question gets the right question sequentially\n",
    "    options=ro_array[n] # requisite options loaded sequentially\n",
    "    \n",
    "    # the RadioButtons widget\n",
    "    RB_thingy = widgets.RadioButtons(\n",
    "            options = options,\n",
    "            discription='',\n",
    "            value=None, # starts with nothing selected\n",
    "            disabled = False\n",
    "            )\n",
    "    \n",
    "    # observe the RadioButtons widget for any changes...    \n",
    "    # call observe with the name of the function that you want to bind to as well as which traits you want\n",
    "    # to \"observe\" i.e., value changes from None to an int when an option is chosen\n",
    "    \n",
    "    # The observe function returns a dictionary of any number of traits that have changed.\n",
    "    # This dictionary is returned as an argument to RB_thingy_eventhandler(change), our change event handler which\n",
    "    # has a change parameter\n",
    "    RB_thingy.observe(RB_thingy_eventhandler, names='value')  # names is just one trait in this case i.e., value\n",
    "    #  create_multipleChoice_widget returns a layout of widgets for display\n",
    "    return widgets.VBox([stem_out, RB_thingy, feedback_out])\n",
    "\n",
    "for q in range(len(mcq[0])):  # iterate through all mcq question items\n",
    "    quiz = create_multipleChoice_widget(q)  # create widget\n",
    "    display(quiz)  # show it all\n",
    "\n",
    "\n",
    "\n",
    "    \n",
    "\n"
   ]
  }
 ],
 "metadata": {
  "kernelspec": {
   "display_name": "Python 3",
   "language": "python",
   "name": "python3"
  },
  "language_info": {
   "codemirror_mode": {
    "name": "ipython",
    "version": 3
   },
   "file_extension": ".py",
   "mimetype": "text/x-python",
   "name": "python",
   "nbconvert_exporter": "python",
   "pygments_lexer": "ipython3",
   "version": "3.7.6"
  }
 },
 "nbformat": 4,
 "nbformat_minor": 4
}
